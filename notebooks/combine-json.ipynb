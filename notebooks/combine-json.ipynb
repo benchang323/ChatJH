{
 "cells": [
  {
   "cell_type": "code",
   "execution_count": 30,
   "metadata": {},
   "outputs": [],
   "source": [
    "import json\n",
    "import os"
   ]
  },
  {
   "cell_type": "code",
   "execution_count": 31,
   "metadata": {},
   "outputs": [
    {
     "name": "stdout",
     "output_type": "stream",
     "text": [
      "Loading ../backend/data.nosync/e-catalogue-jhu-edu/prompt-completion-pairs.json\n",
      "Loading ../backend/data.nosync/ventures-jhu-edu/prompt-completion-pairs.json\n",
      "Loading ../backend/data.nosync/engineering-jhu-edu/prompt-completion-pairs.json\n",
      "Loading ../backend/data.nosync/krieger-jhu-edu/prompt-completion-pairs.json\n",
      "Loading ../backend/data.nosync/studentaffairs-jhu-edu/prompt-completion-pairs.json\n",
      "Saving combined data to ../backend/data.nosync/combined/prompt-completion-pairs-combined.json\n",
      "Number of prompt-completion pairs: 370237\n"
     ]
    }
   ],
   "source": [
    "# Paths\n",
    "base_path = \"../backend/data.nosync\"\n",
    "json_name = \"prompt-completion-pairs.json\"\n",
    "\n",
    "# Store data\n",
    "combined = []\n",
    "\n",
    "# Counter\n",
    "counter = 0\n",
    "\n",
    "# Loop through all files and subdirectories from ../backend/data.nosync/\n",
    "for dirpath, dirnames, filenames in os.walk(base_path):\n",
    "    for filename in filenames:\n",
    "        # If filename is json_name, load and store\n",
    "        if filename == json_name:\n",
    "            full_path = os.path.join(dirpath, filename)\n",
    "            print(\"Loading \" + full_path)\n",
    "            with open(full_path) as f:\n",
    "                # Load each line as a JSON object\n",
    "                for line in f:\n",
    "                    data = json.loads(line.strip())\n",
    "                    # Add to combined\n",
    "                    combined.append(data)\n",
    "                    counter += 1\n",
    "\n",
    "# Save combined data\n",
    "with open(\"../backend/data.nosync/combined/prompt-completion-pairs-combined.json\", \"w\") as f:\n",
    "    print(\"\\nSaving combined data to ../backend/data.nosync/combined/prompt-completion-pairs-combined.json\")\n",
    "    print(\"Number of prompt-completion pairs: \" + str(counter))\n",
    "    json.dump(combined, f)"
   ]
  }
 ],
 "metadata": {
  "kernelspec": {
   "display_name": "base",
   "language": "python",
   "name": "python3"
  },
  "language_info": {
   "codemirror_mode": {
    "name": "ipython",
    "version": 3
   },
   "file_extension": ".py",
   "mimetype": "text/x-python",
   "name": "python",
   "nbconvert_exporter": "python",
   "pygments_lexer": "ipython3",
   "version": "3.10.9"
  },
  "orig_nbformat": 4
 },
 "nbformat": 4,
 "nbformat_minor": 2
}
